{
 "cells": [
  {
   "cell_type": "code",
   "execution_count": 2,
   "id": "9c2cd8e1-ee0c-4a07-9f58-337208b12a6e",
   "metadata": {},
   "outputs": [],
   "source": [
    "import cv2 "
   ]
  },
  {
   "cell_type": "code",
   "execution_count": null,
   "id": "043a5da6-6b84-4ee0-8b64-bedd7258ede6",
   "metadata": {},
   "outputs": [],
   "source": [
    "img = cv2.imread(\"../images/img7.jpeg\")\n",
    "rs_img = cv2.resize(img,(600,400))\n",
    "text_img = cv2.putText(rs_img,\"Saim\",(220,190),cv2.FONT_HERSHEY_PLAIN,3,(0,0,255),3,cv2.FILLED)\n",
    "cv2.imshow('myImg',text_img)\n",
    "cv2.waitKey(0)\n",
    "cv2.destroyAllWindows()"
   ]
  }
 ],
 "metadata": {
  "kernelspec": {
   "display_name": "Python 3 (ipykernel)",
   "language": "python",
   "name": "python3"
  },
  "language_info": {
   "codemirror_mode": {
    "name": "ipython",
    "version": 3
   },
   "file_extension": ".py",
   "mimetype": "text/x-python",
   "name": "python",
   "nbconvert_exporter": "python",
   "pygments_lexer": "ipython3",
   "version": "3.11.7"
  }
 },
 "nbformat": 4,
 "nbformat_minor": 5
}
